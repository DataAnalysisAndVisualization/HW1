{
 "cells": [
  {
   "cell_type": "code",
   "id": "initial_id",
   "metadata": {
    "ExecuteTime": {
     "end_time": "2024-06-22T13:44:32.360492Z",
     "start_time": "2024-06-22T13:44:31.774602Z"
    }
   },
   "source": [
    "import numpy as np\n",
    "from scipy import spatial \n",
    "import faiss\n",
    "from time import time\n",
    "import matplotlib.pyplot as plt\n",
    "from collections import defaultdict\n",
    "from sklearn.cluster import KMeans"
   ],
   "outputs": [],
   "execution_count": 23
  },
  {
   "cell_type": "markdown",
   "id": "62f09c59a02a3b0d",
   "metadata": {},
   "source": [
    "## Helper Function"
   ]
  },
  {
   "cell_type": "code",
   "id": "5a991f1eb012a476",
   "metadata": {
    "ExecuteTime": {
     "end_time": "2024-06-22T13:18:09.758929Z",
     "start_time": "2024-06-22T13:18:09.750931Z"
    }
   },
   "source": [
    "def semi_optimized_exhaustive_search(\n",
    "        index_vectors: np.ndarray,\n",
    "        query_vectors: np.ndarray,\n",
    "        k: int,\n",
    "):\n",
    "    \"\"\"\n",
    "    This function performs an optimized exhaustive search.\n",
    "    Args:\n",
    "        index_vectors: An array of shape (n_index, dim) containing the index vectors.\n",
    "        query_vectors: An array of shape (n_queries, dim) containing the query vectors. \n",
    "        dim: The dimensionality of the vectors.\n",
    "    Returns:\n",
    "        An array of shape (n_queries, k) containing the indices of the k nearest neighbors for each query vector.\n",
    "    \"\"\"\n",
    "    ann_lists = []\n",
    "    for query_vec in query_vectors:\n",
    "        distances = np.linalg.norm(index_vectors - query_vec, axis=1)\n",
    "        ann_lists.append(list(np.argsort(distances)[:k]))\n",
    "    return np.array(ann_lists)"
   ],
   "outputs": [],
   "execution_count": 2
  },
  {
   "cell_type": "code",
   "id": "a8ef475c717fbe2e",
   "metadata": {
    "ExecuteTime": {
     "end_time": "2024-06-22T13:18:10.085542Z",
     "start_time": "2024-06-22T13:18:10.075514Z"
    }
   },
   "source": [
    "def build_faiss_flatl2_index(\n",
    "        index_vectors: np.ndarray,\n",
    "        dim: int,\n",
    "):\n",
    "    \"\"\"\n",
    "    This function builds a Faiss flat L2 index.\n",
    "    Args:\n",
    "        index_vectors: An array of shape (n_index, dim) containing the index vectors.\n",
    "        dim: The dimensionality of the vectors. \n",
    "    Returns:\n",
    "        A Faiss flat L2 index.\n",
    "    \"\"\"\n",
    "    index = faiss.IndexFlatL2(dim)\n",
    "    index.add(index_vectors)\n",
    "    return index"
   ],
   "outputs": [],
   "execution_count": 3
  },
  {
   "cell_type": "code",
   "id": "1df7a2d698755a82",
   "metadata": {
    "ExecuteTime": {
     "end_time": "2024-06-22T13:18:10.517277Z",
     "start_time": "2024-06-22T13:18:10.494753Z"
    }
   },
   "source": [
    "def faiss_search(\n",
    "        query_vectors: np.ndarray,\n",
    "        index: faiss.Index,\n",
    "        k: int,\n",
    "):\n",
    "    \"\"\"\n",
    "    This function uses a Faiss index to search for the k-nearest neighbors of query_vectors.\n",
    "    Args:\n",
    "        query_vectors: An array of shape (n_queries, dim) containing the query vectors. \n",
    "        index: A Faiss index.\n",
    "        k: The number of nearest neighbors to retrieve.\n",
    "    Returns:\n",
    "        An array of shape (, ) containing the indices of the k-nearest neighbors for each query vector.\n",
    "    \"\"\"\n",
    "    distances, indices = index.search(query_vectors, k)\n",
    "    return indices"
   ],
   "outputs": [],
   "execution_count": 4
  },
  {
   "cell_type": "code",
   "id": "af14bea64023a3d4",
   "metadata": {
    "ExecuteTime": {
     "end_time": "2024-06-22T13:18:10.902804Z",
     "start_time": "2024-06-22T13:18:10.880798Z"
    }
   },
   "source": [
    "def build_faiss_lsh_index(\n",
    "        index_vectors: np.ndarray,\n",
    "        dim: int,\n",
    "        nbits: int,\n",
    "):\n",
    "    \"\"\"\n",
    "    This function builds a Faiss LSH index.\n",
    "    Args:\n",
    "        index_vectors: An array of shape (n_index, dim) containing the index vectors.\n",
    "        dim: The dimensionality of the vectors. \n",
    "        nbits: The number of bits to use in the hash.\n",
    "    Returns:\n",
    "        A Faiss LSH index.\n",
    "    \"\"\"\n",
    "    index = faiss.IndexLSH(dim, nbits)\n",
    "    index.add(index_vectors)\n",
    "    return index"
   ],
   "outputs": [],
   "execution_count": 5
  },
  {
   "cell_type": "code",
   "id": "b4b0932dfa7d7a4c",
   "metadata": {
    "ExecuteTime": {
     "end_time": "2024-06-22T13:18:11.286799Z",
     "start_time": "2024-06-22T13:18:11.276798Z"
    }
   },
   "source": [
    "def compute_recall_at_k(\n",
    "        nn_gt: np.ndarray,\n",
    "        ann: np.ndarray,\n",
    "        k: int,\n",
    "):\n",
    "    \"\"\"\n",
    "    This function computes the recall@k.\n",
    "    Args:\n",
    "        nn_gt: The ground truth nearest neighbors.\n",
    "        ann: The approximate nearest neighbors.\n",
    "        k: The number of nearest neighbors to consider.\n",
    "    Returns:\n",
    "        The recall@k.\n",
    "    \"\"\"\n",
    "    return round(sum([len(set(ann[i]) & set(nn_gt[i])) / k for i in range(len(ann))])/len(ann), 3)"
   ],
   "outputs": [],
   "execution_count": 6
  },
  {
   "cell_type": "markdown",
   "id": "77d4be2e90ed842",
   "metadata": {},
   "source": [
    "# 2.1 -- LSH vs Naive Exhaustive Search (Regular Index Vectors)\n",
    "### You just have to run the following cells and add the following results to the report:\n",
    "* running time of the ground truth computation with semi_optimized_exhaustive_search (wall time)\n",
    "* running time of creating faiss_lsh_index (wall time)\n",
    "* running time of faiss_search over query_vectors with faiss_lsh_index (wall time)\n",
    "* recall@10 for faiss_lsh_ann"
   ]
  },
  {
   "cell_type": "code",
   "id": "b4fdbd7671405821",
   "metadata": {
    "ExecuteTime": {
     "end_time": "2024-06-22T14:21:07.284770Z",
     "start_time": "2024-06-22T14:21:07.198759Z"
    }
   },
   "source": [
    "query_vectors = np.load('data/query_vectors.npy')\n",
    "index_vectors = np.load('data/index_vectors.npy')\n",
    "k=10\n",
    "dim = index_vectors.shape[1]"
   ],
   "outputs": [],
   "execution_count": 94
  },
  {
   "cell_type": "code",
   "id": "65ff74d429524ffc",
   "metadata": {
    "ExecuteTime": {
     "end_time": "2024-06-22T15:37:07.815217Z",
     "start_time": "2024-06-22T15:36:27.329854Z"
    }
   },
   "source": [
    "%%time\n",
    "gt_nn = semi_optimized_exhaustive_search(index_vectors, query_vectors, k)"
   ],
   "outputs": [
    {
     "name": "stdout",
     "output_type": "stream",
     "text": [
      "CPU times: total: 35.8 s\n",
      "Wall time: 40.5 s\n"
     ]
    }
   ],
   "execution_count": 189
  },
  {
   "cell_type": "code",
   "id": "bd448cbdb96b1ba0",
   "metadata": {
    "ExecuteTime": {
     "end_time": "2024-06-22T15:37:44.615830Z",
     "start_time": "2024-06-22T15:37:41.093972Z"
    }
   },
   "source": [
    "%%time\n",
    "faiss_lsh_index = build_faiss_lsh_index(index_vectors, dim, nbits=2000)"
   ],
   "outputs": [
    {
     "name": "stdout",
     "output_type": "stream",
     "text": [
      "CPU times: total: 4.09 s\n",
      "Wall time: 3.5 s\n"
     ]
    }
   ],
   "execution_count": 191
  },
  {
   "cell_type": "code",
   "id": "b0a321e6b7406267",
   "metadata": {
    "ExecuteTime": {
     "end_time": "2024-06-22T15:37:45.187895Z",
     "start_time": "2024-06-22T15:37:44.620837Z"
    }
   },
   "source": [
    "%%time\n",
    "faiss_lsh_ann = faiss_search(query_vectors, faiss_lsh_index, k)"
   ],
   "outputs": [
    {
     "name": "stdout",
     "output_type": "stream",
     "text": [
      "CPU times: total: 1.91 s\n",
      "Wall time: 544 ms\n"
     ]
    }
   ],
   "execution_count": 192
  },
  {
   "metadata": {
    "ExecuteTime": {
     "end_time": "2024-06-22T15:38:48.026738Z",
     "start_time": "2024-06-22T15:38:47.994735Z"
    }
   },
   "cell_type": "code",
   "source": "faiss_lsh_ann.shape",
   "id": "6edbd26c49a1c87",
   "outputs": [
    {
     "data": {
      "text/plain": [
       "(1000, 10)"
      ]
     },
     "execution_count": 194,
     "metadata": {},
     "output_type": "execute_result"
    }
   ],
   "execution_count": 194
  },
  {
   "cell_type": "code",
   "id": "e5554595c4d77a27",
   "metadata": {
    "ExecuteTime": {
     "end_time": "2024-06-22T15:37:45.234897Z",
     "start_time": "2024-06-22T15:37:45.192888Z"
    }
   },
   "source": [
    "print(f\"recall@10 for faiss_lsh_index: {compute_recall_at_k(gt_nn, faiss_lsh_ann, k)}\")"
   ],
   "outputs": [
    {
     "name": "stdout",
     "output_type": "stream",
     "text": [
      "recall@10 for faiss_lsh_index: 0.138\n"
     ]
    }
   ],
   "execution_count": 193
  },
  {
   "cell_type": "markdown",
   "id": "ad5ca983b3a893e5",
   "metadata": {},
   "source": [
    "# 2.2 -- Custom Indexing Algorithm\n",
    "Build an indexing algorithm that satisfies the following requirements:\n",
    "* The indexing algorithm should be able to handle vectors of different dimensions\n",
    "* The running time of the indexing should be less than half of the running time of semi_optimized_exhaustive_search), reported in Section 2.1.\n",
    "* The running time of searching over the index should be less than a third (1/3) of the time of the semi_optimized_exhaustive_search function, reported in Section 2.1.\n",
    "* The performance (in terms of recall@10) of the indexing algorithm should be at least 0.8.\n",
    "\n",
    "The last three bullets should also appear in the report.\n",
    "You are allowed to add as many helper functions as you need. You cannot use faiss of scipy libraries for this task. Numpy is allowed. \n",
    "\n",
    "You can also test your algorithm with the additional two query-index sets by replacing the calls made few cells ago to:\n",
    "\n",
    "    query_vectors = np.load('data/query_vectors2.npy')\n",
    "    index_vectors = np.load('data/index_vectors2.npy')\n",
    "or:\n",
    "\n",
    "    query_vectors = np.load('data/query_vectors3.npy')\n",
    "    index_vectors = np.load('data/index_vectors3.npy')\n",
    "    \n",
    "the aforementioned requirements should also be satisfied over these two query-index sets. No need to insert the results over these two to the report."
   ]
  },
  {
   "metadata": {
    "ExecuteTime": {
     "end_time": "2024-06-22T13:32:23.064854Z",
     "start_time": "2024-06-22T13:32:19.541858Z"
    }
   },
   "cell_type": "code",
   "source": [
    "from sklearn.preprocessing import StandardScaler\n",
    "from sklearn.decomposition import PCA\n",
    "\n",
    "\n",
    "query_vectors = np.load('data/query_vectors2.npy')\n",
    "index_vectors = np.load('data/index_vectors2.npy')\n",
    "\n",
    "# Standardize the data (optional but recommended)\n",
    "\n",
    "scaler = StandardScaler()\n",
    "query_vectors_std = scaler.fit_transform(query_vectors)\n",
    "\n",
    "# Perform PCA\n",
    "pca = PCA(n_components=2)  # Change n_components to the number of dimensions you want to keep\n",
    "query_vectors_pca = pca.fit_transform(query_vectors_std)\n",
    "\n",
    "# Plot the first two principal components\n",
    "plt.figure(figsize=(10, 6))\n",
    "plt.scatter(query_vectors_pca[:, 0], query_vectors_pca[:, 1], alpha=0.7)\n",
    "plt.xlabel('First Principal Component')\n",
    "plt.ylabel('Second Principal Component')\n",
    "plt.title('PCA of Query Vectors')\n",
    "plt.grid(True)\n",
    "plt.show()"
   ],
   "id": "470d7cd9cb04701f",
   "outputs": [
    {
     "data": {
      "text/plain": [
       "<Figure size 1000x600 with 1 Axes>"
      ],
      "image/png": "[encoded data removed]"
     },
     "metadata": {},
     "output_type": "display_data"
    }
   ],
   "execution_count": 13
  },
  {
   "metadata": {
    "ExecuteTime": {
     "end_time": "2024-06-22T13:40:02.263475Z",
     "start_time": "2024-06-22T13:40:00.891544Z"
    }
   },
   "cell_type": "code",
   "source": [
    "from sklearn.preprocessing import StandardScaler\n",
    "from sklearn.decomposition import PCA\n",
    "\n",
    "\n",
    "query_vectors = np.load('data/query_vectors3.npy')\n",
    "index_vectors = np.load('data/index_vectors3.npy')\n",
    "\n",
    "# Standardize the data (optional but recommended)\n",
    "\n",
    "scaler = StandardScaler()\n",
    "query_vectors_std = scaler.fit_transform(query_vectors)\n",
    "\n",
    "# Perform PCA\n",
    "# pca = PCA(n_components=2)  # Change n_components to the number of dimensions you want to keep\n",
    "# query_vectors_pca = pca.fit_transform(query_vectors_std)\n",
    "\n",
    "# Plot the first two principal components\n",
    "plt.figure(figsize=(10, 6))\n",
    "plt.scatter(query_vectors_pca[:, 0], query_vectors_pca[:, 1], alpha=0.7)\n",
    "plt.xlabel('First Principal Component')\n",
    "plt.ylabel('Second Principal Component')\n",
    "plt.title('PCA of Query Vectors')\n",
    "plt.grid(True)\n",
    "plt.show()"
   ],
   "id": "569aa4fa26a3b88e",
   "outputs": [
    {
     "data": {
      "text/plain": [
       "<Figure size 1000x600 with 1 Axes>"
      ],
      "image/png": "[encoded data removed]"
     },
     "metadata": {},
     "output_type": "display_data"
    }
   ],
   "execution_count": 20
  },
  {
   "cell_type": "code",
   "id": "8421dc36363650c5",
   "metadata": {
    "ExecuteTime": {
     "end_time": "2024-06-22T16:07:59.473419Z",
     "start_time": "2024-06-22T16:07:59.422423Z"
    }
   },
   "source": [
    "#TODO: Write your code for 2.2.2 here\n",
    "# You are allowed to add more arguments to the functions and create more functions if needed.\n",
    "\n",
    "def update_k_means_centroids(vectors, n_clusters, centroids):\n",
    "    distances = np.linalg.norm(vectors[:, np.newaxis] - centroids, axis=2)\n",
    "    labels = np.argmax(distances, axis=1)\n",
    "    new_centroids = np.array([vectors[labels == cluster_id].mean(axis=0) for cluster_id in range(n_clusters)])\n",
    "    return new_centroids\n",
    "\n",
    "def separate_to_clusters(vectors, centroids):\n",
    "    distances = np.linalg.norm(vectors[:, np.newaxis] - centroids, axis=2)\n",
    "    labels = np.argmax(distances, axis=1)\n",
    "    clusters_vectors = {}\n",
    "    clusters_vector_ids = {}\n",
    "    for vector_id, (vector, label) in enumerate(zip(vectors, labels)):\n",
    "        if label in clusters_vectors:\n",
    "            clusters_vectors[label].append(vector)\n",
    "            clusters_vector_ids[label].append(vector_id)\n",
    "        else:\n",
    "            clusters_vectors[label] = [vector,]\n",
    "            clusters_vector_ids[label] = [vector_id,]\n",
    "            \n",
    "    for label in clusters_vectors:\n",
    "        clusters_vectors[label] = np.array(clusters_vectors[label])\n",
    "        clusters_vector_ids[label] = np.array(clusters_vector_ids[label])\n",
    "            \n",
    "    return clusters_vectors, clusters_vector_ids\n",
    "    \n",
    "\n",
    "def calc_k_means_clusters(vectors, n_clusters, max_iter=100):\n",
    "    iter = 0\n",
    "    initial_indices = np.random.choice(index_vectors.shape[0], n_clusters, replace=False)\n",
    "    centroids = index_vectors[initial_indices]\n",
    "    prev_centroids = centroids\n",
    "    centroids = update_k_means_centroids(vectors, n_clusters, centroids)\n",
    "    while not np.array_equal(centroids, prev_centroids) and iter < max_iter:\n",
    "        prev_centroids = centroids\n",
    "        centroids = update_k_means_centroids(vectors, n_clusters, centroids)\n",
    "        iter += 1\n",
    "\n",
    "    clusters_vectors, clusters_vector_ids = separate_to_clusters(vectors, centroids)\n",
    "    \n",
    "    return centroids, clusters_vectors, clusters_vector_ids\n",
    "\n",
    "\n",
    "def custom_indexing_algorithm(index_vectors, dim):\n",
    "    \"\"\"\n",
    "    This function builds an index from scratch.\n",
    "    Args:\n",
    "        index_vectors: An array of shape (n_index, dim) containing the index vectors.\n",
    "        dim: The dimensionality of the vectors.\n",
    "    Returns:\n",
    "        An index.\n",
    "    \"\"\"\n",
    "    n_clusters = 200\n",
    "    centroids, clusters_vectors, clusters_vector_ids = calc_k_means_clusters(index_vectors, n_clusters)\n",
    "    return centroids, clusters_vectors, clusters_vector_ids\n",
    "\n",
    "\n",
    "def custom_index_search(query_vectors, index, k):\n",
    "    \"\"\"\n",
    "    This function searches over the custom index.\n",
    "    Args:\n",
    "        query_vectors: An array of shape (n_queries, dim) containing the query vectors.\n",
    "        index: The custom index.\n",
    "        k: The number of nearest neighbors to retrieve.\n",
    "    \"\"\"\n",
    "    centroids, clusters_vectors, clusters_vector_ids = index\n",
    "    query_centroid_distances = np.linalg.norm(query_vectors[:, np.newaxis] - centroids, axis=2)\n",
    "    labels = np.argmax(query_centroid_distances, axis=1)\n",
    "    \n",
    "    ann_lists = []\n",
    "    \n",
    "    for query_vector, label in zip(query_vectors, labels):\n",
    "        cluster_index_vectors = clusters_vectors[label]\n",
    "        cluster_index_vectors_ids = clusters_vector_ids[label]\n",
    "        \n",
    "        distances = np.linalg.norm(cluster_index_vectors - query_vector, axis=1)\n",
    "        ann_lists.append(cluster_index_vectors_ids[np.argsort(distances)[:k]])\n",
    "        \n",
    "    return np.array(ann_lists)\n",
    "    "
   ],
   "outputs": [],
   "execution_count": 253
  },
  {
   "cell_type": "code",
   "id": "a50f4b92f2ec12fd",
   "metadata": {
    "ExecuteTime": {
     "end_time": "2024-06-22T16:08:00.862957Z",
     "start_time": "2024-06-22T16:08:00.847960Z"
    }
   },
   "source": [
    "# Add hyperparameters here (if needed)"
   ],
   "outputs": [],
   "execution_count": 254
  },
  {
   "cell_type": "code",
   "id": "ef371ecd242846db",
   "metadata": {
    "ExecuteTime": {
     "end_time": "2024-06-22T16:11:29.380978Z",
     "start_time": "2024-06-22T16:08:03.878492Z"
    }
   },
   "source": [
    "%%time\n",
    "custom_index = custom_indexing_algorithm(index_vectors, dim)"
   ],
   "outputs": [
    {
     "name": "stderr",
     "output_type": "stream",
     "text": [
      "C:\\Users\\yonil\\AppData\\Local\\Temp\\ipykernel_25584\\3089159381.py:7: RuntimeWarning: Mean of empty slice.\n",
      "  new_centroids = np.array([vectors[labels == cluster_id].mean(axis=0) for cluster_id in range(n_clusters)])\n"
     ]
    },
    {
     "ename": "KeyboardInterrupt",
     "evalue": "",
     "output_type": "error",
     "traceback": [
      "\u001B[1;31m---------------------------------------------------------------------------\u001B[0m",
      "\u001B[1;31mKeyboardInterrupt\u001B[0m                         Traceback (most recent call last)",
      "File \u001B[1;32m<timed exec>:1\u001B[0m\n",
      "Cell \u001B[1;32mIn[253], line 56\u001B[0m, in \u001B[0;36mcustom_indexing_algorithm\u001B[1;34m(index_vectors, dim)\u001B[0m\n\u001B[0;32m     47\u001B[0m \u001B[38;5;250m\u001B[39m\u001B[38;5;124;03m\"\"\"\u001B[39;00m\n\u001B[0;32m     48\u001B[0m \u001B[38;5;124;03mThis function builds an index from scratch.\u001B[39;00m\n\u001B[0;32m     49\u001B[0m \u001B[38;5;124;03mArgs:\u001B[39;00m\n\u001B[1;32m   (...)\u001B[0m\n\u001B[0;32m     53\u001B[0m \u001B[38;5;124;03m    An index.\u001B[39;00m\n\u001B[0;32m     54\u001B[0m \u001B[38;5;124;03m\"\"\"\u001B[39;00m\n\u001B[0;32m     55\u001B[0m n_clusters \u001B[38;5;241m=\u001B[39m \u001B[38;5;241m200\u001B[39m\n\u001B[1;32m---> 56\u001B[0m centroids, clusters_vectors, clusters_vector_ids \u001B[38;5;241m=\u001B[39m \u001B[43mcalc_k_means_clusters\u001B[49m\u001B[43m(\u001B[49m\u001B[43mindex_vectors\u001B[49m\u001B[43m,\u001B[49m\u001B[43m \u001B[49m\u001B[43mn_clusters\u001B[49m\u001B[43m)\u001B[49m\n\u001B[0;32m     57\u001B[0m \u001B[38;5;28;01mreturn\u001B[39;00m centroids, clusters_vectors, clusters_vector_ids\n",
      "Cell \u001B[1;32mIn[253], line 38\u001B[0m, in \u001B[0;36mcalc_k_means_clusters\u001B[1;34m(vectors, n_clusters, max_iter)\u001B[0m\n\u001B[0;32m     36\u001B[0m \u001B[38;5;28;01mwhile\u001B[39;00m \u001B[38;5;129;01mnot\u001B[39;00m np\u001B[38;5;241m.\u001B[39marray_equal(centroids, prev_centroids) \u001B[38;5;129;01mand\u001B[39;00m \u001B[38;5;28miter\u001B[39m \u001B[38;5;241m<\u001B[39m max_iter:\n\u001B[0;32m     37\u001B[0m     prev_centroids \u001B[38;5;241m=\u001B[39m centroids\n\u001B[1;32m---> 38\u001B[0m     centroids \u001B[38;5;241m=\u001B[39m \u001B[43mupdate_k_means_centroids\u001B[49m\u001B[43m(\u001B[49m\u001B[43mvectors\u001B[49m\u001B[43m,\u001B[49m\u001B[43m \u001B[49m\u001B[43mn_clusters\u001B[49m\u001B[43m,\u001B[49m\u001B[43m \u001B[49m\u001B[43mcentroids\u001B[49m\u001B[43m)\u001B[49m\n\u001B[0;32m     39\u001B[0m     \u001B[38;5;28miter\u001B[39m \u001B[38;5;241m+\u001B[39m\u001B[38;5;241m=\u001B[39m \u001B[38;5;241m1\u001B[39m\n\u001B[0;32m     41\u001B[0m clusters_vectors, clusters_vector_ids \u001B[38;5;241m=\u001B[39m separate_to_clusters(vectors, centroids)\n",
      "Cell \u001B[1;32mIn[253], line 5\u001B[0m, in \u001B[0;36mupdate_k_means_centroids\u001B[1;34m(vectors, n_clusters, centroids)\u001B[0m\n\u001B[0;32m      4\u001B[0m \u001B[38;5;28;01mdef\u001B[39;00m \u001B[38;5;21mupdate_k_means_centroids\u001B[39m(vectors, n_clusters, centroids):\n\u001B[1;32m----> 5\u001B[0m     distances \u001B[38;5;241m=\u001B[39m \u001B[43mnp\u001B[49m\u001B[38;5;241;43m.\u001B[39;49m\u001B[43mlinalg\u001B[49m\u001B[38;5;241;43m.\u001B[39;49m\u001B[43mnorm\u001B[49m\u001B[43m(\u001B[49m\u001B[43mvectors\u001B[49m\u001B[43m[\u001B[49m\u001B[43m:\u001B[49m\u001B[43m,\u001B[49m\u001B[43m \u001B[49m\u001B[43mnp\u001B[49m\u001B[38;5;241;43m.\u001B[39;49m\u001B[43mnewaxis\u001B[49m\u001B[43m]\u001B[49m\u001B[43m \u001B[49m\u001B[38;5;241;43m-\u001B[39;49m\u001B[43m \u001B[49m\u001B[43mcentroids\u001B[49m\u001B[43m,\u001B[49m\u001B[43m \u001B[49m\u001B[43maxis\u001B[49m\u001B[38;5;241;43m=\u001B[39;49m\u001B[38;5;241;43m2\u001B[39;49m\u001B[43m)\u001B[49m\n\u001B[0;32m      6\u001B[0m     labels \u001B[38;5;241m=\u001B[39m np\u001B[38;5;241m.\u001B[39margmax(distances, axis\u001B[38;5;241m=\u001B[39m\u001B[38;5;241m1\u001B[39m)\n\u001B[0;32m      7\u001B[0m     new_centroids \u001B[38;5;241m=\u001B[39m np\u001B[38;5;241m.\u001B[39marray([vectors[labels \u001B[38;5;241m==\u001B[39m cluster_id]\u001B[38;5;241m.\u001B[39mmean(axis\u001B[38;5;241m=\u001B[39m\u001B[38;5;241m0\u001B[39m) \u001B[38;5;28;01mfor\u001B[39;00m cluster_id \u001B[38;5;129;01min\u001B[39;00m \u001B[38;5;28mrange\u001B[39m(n_clusters)])\n",
      "File \u001B[1;32m~\\anaconda3\\envs\\datascience\\lib\\site-packages\\numpy\\linalg\\linalg.py:2583\u001B[0m, in \u001B[0;36mnorm\u001B[1;34m(x, ord, axis, keepdims)\u001B[0m\n\u001B[0;32m   2580\u001B[0m \u001B[38;5;28;01melif\u001B[39;00m \u001B[38;5;28mord\u001B[39m \u001B[38;5;129;01mis\u001B[39;00m \u001B[38;5;28;01mNone\u001B[39;00m \u001B[38;5;129;01mor\u001B[39;00m \u001B[38;5;28mord\u001B[39m \u001B[38;5;241m==\u001B[39m \u001B[38;5;241m2\u001B[39m:\n\u001B[0;32m   2581\u001B[0m     \u001B[38;5;66;03m# special case for speedup\u001B[39;00m\n\u001B[0;32m   2582\u001B[0m     s \u001B[38;5;241m=\u001B[39m (x\u001B[38;5;241m.\u001B[39mconj() \u001B[38;5;241m*\u001B[39m x)\u001B[38;5;241m.\u001B[39mreal\n\u001B[1;32m-> 2583\u001B[0m     \u001B[38;5;28;01mreturn\u001B[39;00m sqrt(\u001B[43madd\u001B[49m\u001B[38;5;241;43m.\u001B[39;49m\u001B[43mreduce\u001B[49m\u001B[43m(\u001B[49m\u001B[43ms\u001B[49m\u001B[43m,\u001B[49m\u001B[43m \u001B[49m\u001B[43maxis\u001B[49m\u001B[38;5;241;43m=\u001B[39;49m\u001B[43maxis\u001B[49m\u001B[43m,\u001B[49m\u001B[43m \u001B[49m\u001B[43mkeepdims\u001B[49m\u001B[38;5;241;43m=\u001B[39;49m\u001B[43mkeepdims\u001B[49m\u001B[43m)\u001B[49m)\n\u001B[0;32m   2584\u001B[0m \u001B[38;5;66;03m# None of the str-type keywords for ord ('fro', 'nuc')\u001B[39;00m\n\u001B[0;32m   2585\u001B[0m \u001B[38;5;66;03m# are valid for vectors\u001B[39;00m\n\u001B[0;32m   2586\u001B[0m \u001B[38;5;28;01melif\u001B[39;00m \u001B[38;5;28misinstance\u001B[39m(\u001B[38;5;28mord\u001B[39m, \u001B[38;5;28mstr\u001B[39m):\n",
      "\u001B[1;31mKeyboardInterrupt\u001B[0m: "
     ]
    }
   ],
   "execution_count": 255
  },
  {
   "cell_type": "code",
   "id": "1c40c61275a3d001",
   "metadata": {
    "ExecuteTime": {
     "end_time": "2024-06-22T16:11:29.608985Z",
     "start_time": "2024-06-22T16:11:29.405977Z"
    }
   },
   "source": [
    "%%time\n",
    "custom_index_ann = custom_index_search(query_vectors[:2], custom_index, k)"
   ],
   "outputs": [
    {
     "name": "stdout",
     "output_type": "stream",
     "text": [
      "CPU times: total: 93.8 ms\n",
      "Wall time: 159 ms\n"
     ]
    }
   ],
   "execution_count": 256
  },
  {
   "cell_type": "code",
   "id": "3ddba190c55cd0af",
   "metadata": {
    "ExecuteTime": {
     "end_time": "2024-06-22T16:11:29.624979Z",
     "start_time": "2024-06-22T16:11:29.612976Z"
    }
   },
   "source": "print(f\"recall@10 for custom_index_search: {compute_recall_at_k(gt_nn[:2], custom_index_ann, k)}\")",
   "outputs": [
    {
     "name": "stdout",
     "output_type": "stream",
     "text": [
      "recall@10 for custom_index_search: 1.0\n"
     ]
    }
   ],
   "execution_count": 257
  },
  {
   "metadata": {},
   "cell_type": "code",
   "outputs": [],
   "execution_count": null,
   "source": "",
   "id": "6ccd00dc5127e2d9"
  }
 ],
 "metadata": {
  "kernelspec": {
   "display_name": "Python 3 (ipykernel)",
   "language": "python",
   "name": "python3"
  },
  "language_info": {
   "codemirror_mode": {
    "name": "ipython",
    "version": 3
   },
   "file_extension": ".py",
   "mimetype": "text/x-python",
   "name": "python",
   "nbconvert_exporter": "python",
   "pygments_lexer": "ipython3",
   "version": "3.11.3"
  }
 },
 "nbformat": 4,
 "nbformat_minor": 5
}
